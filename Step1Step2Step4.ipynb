{
  "nbformat": 4,
  "nbformat_minor": 0,
  "metadata": {
    "colab": {
      "provenance": [],
      "authorship_tag": "ABX9TyNxRcZiJ1snCWw4iKwK/Fyc",
      "include_colab_link": true
    },
    "kernelspec": {
      "name": "python3",
      "display_name": "Python 3"
    },
    "language_info": {
      "name": "python"
    }
  },
  "cells": [
    {
      "cell_type": "markdown",
      "metadata": {
        "id": "view-in-github",
        "colab_type": "text"
      },
      "source": [
        "<a href=\"https://colab.research.google.com/github/ArkhipovAS/GB.Java/blob/master/Step1Step2Step4.ipynb\" target=\"_parent\"><img src=\"https://colab.research.google.com/assets/colab-badge.svg\" alt=\"Open In Colab\"/></a>"
      ]
    },
    {
      "cell_type": "code",
      "source": [
        "from google.colab import drive\n",
        "drive.mount('/content/drive')"
      ],
      "metadata": {
        "colab": {
          "base_uri": "https://localhost:8080/"
        },
        "id": "6tP-34ElAe7y",
        "outputId": "cb187686-46aa-4418-ca55-4da09a9ee578"
      },
      "execution_count": 1,
      "outputs": [
        {
          "output_type": "stream",
          "name": "stdout",
          "text": [
            "Mounted at /content/drive\n"
          ]
        }
      ]
    },
    {
      "cell_type": "code",
      "execution_count": 7,
      "metadata": {
        "colab": {
          "base_uri": "https://localhost:8080/"
        },
        "id": "zp-8f0tGAbF2",
        "outputId": "8c407a3b-fa87-4d1a-b851-f48ad3f0a8f8"
      },
      "outputs": [
        {
          "output_type": "stream",
          "name": "stdout",
          "text": [
            "                         Point A                                  Point B Time\n",
            "0      БАЗА (путь к контрагенту)                БАЗА СОЛЬ (обратный путь)    0\n",
            "1      БАЗА (путь к контрагенту)                           АВТОБАН 55 ООО   25\n",
            "2      БАЗА (путь к контрагенту)                                 АГАТ ООО   25\n",
            "3      БАЗА (путь к контрагенту)                           АГРОМАРКЕТ ООО   35\n",
            "4      БАЗА (путь к контрагенту)                              АГРОМИР ООО   40\n",
            "...                          ...                                      ...  ...\n",
            "52665                        NaN                       ЭКО-СТАНДАРТ-К ООО  NaN\n",
            "52666                        NaN  Электрический транспорт города Омска МП  NaN\n",
            "52667                        NaN                  ЭЛЕКТРОТОЧПРИБОР ТД ООО  NaN\n",
            "52668                        NaN                               ЭТАЛОН ООО  NaN\n",
            "52669                        NaN                   ЯСТРО -Переработка ООО  NaN\n",
            "\n",
            "[52670 rows x 3 columns]\n"
          ]
        }
      ],
      "source": [
        "import pandas as pd\n",
        "\n",
        "# Чтение исходного CSV-файла в DataFrame\n",
        "input_file = '/content/drive/MyDrive/ai/internship_2024_06/2024_06_10/step1_AB_time_shedule.csv'  # Замените на имя вашего файла\n",
        "df = pd.read_csv(input_file, index_col=0)\n",
        "\n",
        "# Создание списка маршрутов\n",
        "routes = []\n",
        "\n",
        "# Перебор строк и столбцов для создания новой таблицы маршрутов\n",
        "for index, row in df.iterrows():\n",
        "    point_a = index\n",
        "    for point_b in df.columns:\n",
        "        time = row[point_b]\n",
        "        routes.append({'Point A': point_a, 'Point B': point_b, 'Time': time})\n",
        "\n",
        "# Создание новой таблицы DataFrame с маршрутами\n",
        "new_df = pd.DataFrame(routes)\n",
        "\n",
        "# Сохранение новой таблицы в CSV-файл\n",
        "output_file = '/content/drive/MyDrive/ai/internship_2024_06/2024_06_10/step2_time_routes.csv'  # Замените на желаемое имя выходного файла\n",
        "new_df.to_csv(output_file, index=False)\n",
        "\n",
        "print(new_df)\n"
      ]
    },
    {
      "cell_type": "code",
      "source": [
        "import pandas as pd\n",
        "\n",
        "# Чтение файла с названиями и координатами точек\n",
        "points_file = '/content/drive/MyDrive/ai/internship_2024_06/2024_06_10/step3_point_addr_coord.csv'  # Замените на имя вашего файла с названиями точек\n",
        "points_df = pd.read_csv(points_file)\n",
        "\n",
        "# Создание словаря для быстрого поиска координат по названию точки\n",
        "coords_dict = points_df.set_index('namePoint')[['longitude', 'latitude']].to_dict('index')\n",
        "\n",
        "# Чтение файла с маршрутами\n",
        "routes_file = '/content/drive/MyDrive/ai/internship_2024_06/2024_06_10/step2_time_routes.csv'  # Замените на имя вашего файла с маршрутами\n",
        "routes_df = pd.read_csv(routes_file)\n",
        "\n",
        "# Функция для получения координат по названию точки\n",
        "def get_coords(point_name):\n",
        "    if point_name in coords_dict:\n",
        "        lon, lat = coords_dict[point_name]['longitude'], coords_dict[point_name]['latitude']\n",
        "        return lon, lat\n",
        "    else:\n",
        "        return None, None  # Если координаты не найдены, возвращаем None\n",
        "\n",
        "# Добавление новых столбцов с координатами\n",
        "routes_df['Point A Longitude'], routes_df['Point A Latitude'] = zip(*routes_df['Point A'].apply(get_coords))\n",
        "routes_df['Point B Longitude'], routes_df['Point B Latitude'] = zip(*routes_df['Point B'].apply(get_coords))\n",
        "\n",
        "# Сохранение результата в новый CSV-файл\n",
        "output_file = '/content/drive/MyDrive/ai/internship_2024_06/2024_06_10/step4_addr_coord_time.csv'  # Замените на желаемое имя выходного файла\n",
        "routes_df.to_csv(output_file, index=False)\n",
        "\n",
        "print(routes_df)\n"
      ],
      "metadata": {
        "colab": {
          "base_uri": "https://localhost:8080/"
        },
        "id": "I0Ne_fL7TO3y",
        "outputId": "155ae303-f2e3-4542-9ca5-070feecc0cd3"
      },
      "execution_count": 8,
      "outputs": [
        {
          "output_type": "stream",
          "name": "stdout",
          "text": [
            "                         Point A                                  Point B  \\\n",
            "0      БАЗА (путь к контрагенту)                БАЗА СОЛЬ (обратный путь)   \n",
            "1      БАЗА (путь к контрагенту)                           АВТОБАН 55 ООО   \n",
            "2      БАЗА (путь к контрагенту)                                 АГАТ ООО   \n",
            "3      БАЗА (путь к контрагенту)                           АГРОМАРКЕТ ООО   \n",
            "4      БАЗА (путь к контрагенту)                              АГРОМИР ООО   \n",
            "...                          ...                                      ...   \n",
            "52665                        NaN                       ЭКО-СТАНДАРТ-К ООО   \n",
            "52666                        NaN  Электрический транспорт города Омска МП   \n",
            "52667                        NaN                  ЭЛЕКТРОТОЧПРИБОР ТД ООО   \n",
            "52668                        NaN                               ЭТАЛОН ООО   \n",
            "52669                        NaN                   ЯСТРО -Переработка ООО   \n",
            "\n",
            "      Time  Point A Longitude  Point A Latitude  Point B Longitude  \\\n",
            "0        0          73.457585          54.98602          73.457585   \n",
            "1       25          73.457585          54.98602          73.317484   \n",
            "2       25          73.457585          54.98602          73.387939   \n",
            "3       35          73.457585          54.98602          73.312849   \n",
            "4       40          73.457585          54.98602          73.288028   \n",
            "...    ...                ...               ...                ...   \n",
            "52665  NaN                NaN               NaN          73.387939   \n",
            "52666  NaN                NaN               NaN          73.343643   \n",
            "52667  NaN                NaN               NaN          73.382944   \n",
            "52668  NaN                NaN               NaN          73.314367   \n",
            "52669  NaN                NaN               NaN          73.415535   \n",
            "\n",
            "       Point B Latitude  \n",
            "0             54.986020  \n",
            "1             54.979123  \n",
            "2             55.033228  \n",
            "3             54.947077  \n",
            "4             54.929312  \n",
            "...                 ...  \n",
            "52665         55.033228  \n",
            "52666         55.008738  \n",
            "52667         54.965440  \n",
            "52668         54.977692  \n",
            "52669         55.006993  \n",
            "\n",
            "[52670 rows x 7 columns]\n"
          ]
        }
      ]
    }
  ]
}